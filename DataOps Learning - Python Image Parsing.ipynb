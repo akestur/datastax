{
 "cells": [
  {
   "cell_type": "markdown",
   "metadata": {},
   "source": [
    "# Python Text from Image"
   ]
  },
  {
   "cell_type": "markdown",
   "metadata": {},
   "source": [
    "PyTesseract, Google Cloud Vision API, Google AutoML"
   ]
  },
  {
   "cell_type": "code",
   "execution_count": 1,
   "metadata": {},
   "outputs": [
    {
     "name": "stdout",
     "output_type": "stream",
     "text": [
      "https://academy.datastax.com/certs/lookup/b5c8f18b-9518-45ce-b837-bc0fbf9417ab//b5c8f18b-9518-45ce-b837-bc0fbf9417ab.png\n"
     ]
    }
   ],
   "source": [
    "image_url = 'https://academy.datastax.com/certs/lookup/b5c8f18b-9518-45ce-b837-bc0fbf9417ab//b5c8f18b-9518-45ce-b837-bc0fbf9417ab.png'\n",
    "print(image_url)"
   ]
  },
  {
   "cell_type": "code",
   "execution_count": 2,
   "metadata": {},
   "outputs": [
    {
     "data": {
      "text/html": [
       "<img src=\"https://academy.datastax.com/certs/lookup/b5c8f18b-9518-45ce-b837-bc0fbf9417ab//b5c8f18b-9518-45ce-b837-bc0fbf9417ab.png\"/>"
      ],
      "text/plain": [
       "<IPython.core.display.Image object>"
      ]
     },
     "execution_count": 2,
     "metadata": {},
     "output_type": "execute_result"
    }
   ],
   "source": [
    "from IPython.display import Image\n",
    "from IPython.core.display import HTML \n",
    "Image(url= image_url)"
   ]
  },
  {
   "cell_type": "markdown",
   "metadata": {},
   "source": [
    "# PyTesseract"
   ]
  },
  {
   "cell_type": "markdown",
   "metadata": {},
   "source": [
    "* Python Wrapper for Google Tesseract OCR Engine\n",
    "* Version improvements shift from focus on base character recognition to including line recognition"
   ]
  },
  {
   "cell_type": "code",
   "execution_count": 3,
   "metadata": {},
   "outputs": [],
   "source": [
    "import pandas as pd\n",
    "import pytesseract\n",
    "import requests"
   ]
  },
  {
   "cell_type": "code",
   "execution_count": 4,
   "metadata": {},
   "outputs": [
    {
     "name": "stdout",
     "output_type": "stream",
     "text": [
      "~ 24 643 652 696 0\n",
      "J 239 516 254 541 0\n",
      "e 241 516 275 541 0\n",
      "f 257 516 275 535 0\n",
      "f 276 517 299 541 0\n",
      "C 308 516 331 541 0\n",
      "a 332 516 349 535 0\n",
      "r 352 517 363 535 0\n",
      "p 365 510 383 535 0\n",
      "e 371 510 399 541 0\n",
      "n 384 516 402 535 0\n",
      "t 405 517 421 535 0\n",
      "e 423 516 435 539 0\n",
      "r 436 516 467 535 0\n",
      "~ 211 448 214 450 0\n",
      "= 216 447 226 451 0\n",
      "* 228 446 234 452 0\n",
      "I 241 441 243 456 0\n",
      "S 246 441 257 456 0\n",
      "R 265 441 276 456 0\n",
      "E 278 441 288 456 0\n",
      "C 290 441 303 456 0\n",
      "O 304 441 318 456 0\n",
      "G 320 441 333 456 0\n",
      "N 323 441 343 456 0\n",
      "I 335 441 347 456 0\n",
      "Z 350 441 365 456 0\n",
      "E 356 441 377 456 0\n",
      "D 367 441 391 456 0\n",
      "A 398 441 408 456 0\n",
      "S 398 441 423 456 0\n",
      "A 429 441 442 456 0\n",
      "* 448 446 454 452 0\n",
      "* 456 447 471 451 0\n",
      "D 34 361 49 378 0\n",
      "a 35 361 62 378 0\n",
      "t 51 361 61 374 0\n",
      "a 63 361 82 377 0\n",
      "S 73 361 95 378 0\n",
      "t 84 361 97 378 0\n",
      "a 97 361 117 377 0\n",
      "x 118 361 130 374 0\n",
      "C 138 360 149 378 0\n",
      "e 138 360 153 378 0\n",
      "r 155 361 167 374 0\n",
      "t 169 361 183 377 0\n",
      "i 174 360 191 378 0\n",
      "f 185 361 200 378 0\n",
      "i 192 360 214 378 0\n",
      "e 203 361 215 374 0\n",
      "d 217 361 229 378 0\n",
      "P 238 361 251 378 0\n",
      "r 253 361 259 374 0\n",
      "o 260 361 273 374 0\n",
      "f 274 361 282 378 0\n",
      "e 282 361 294 374 0\n",
      "s 296 361 306 374 0\n",
      "s 307 361 317 374 0\n",
      "i 320 361 323 378 0\n",
      "o 325 361 337 374 0\n",
      "n 339 361 350 374 0\n",
      "a 353 361 364 374 0\n",
      "l 367 361 369 378 0\n",
      "o 378 361 391 374 0\n",
      "n 393 361 404 374 0\n",
      "D 413 361 428 378 0\n",
      "a 430 361 441 374 0\n",
      "t 442 361 450 377 0\n",
      "a 451 361 461 374 0\n",
      "S 464 361 477 378 0\n",
      "t 477 361 484 377 0\n",
      "a 485 361 496 374 0\n",
      "x 498 361 509 374 0\n",
      "E 518 361 529 378 0\n",
      "n 520 356 542 378 0\n",
      "t 532 361 543 374 0\n",
      "e 544 361 552 377 0\n",
      "r 552 361 565 374 0\n",
      "p 567 361 574 374 0\n",
      "r 575 356 587 374 0\n",
      "i 590 361 601 378 0\n",
      "s 603 361 613 374 0\n",
      "e 615 361 627 374 0\n",
      "A 253 301 263 315 0\n",
      "S 253 301 276 315 0\n",
      "P 284 301 292 315 0\n",
      "A 284 301 294 315 0\n",
      "R 293 301 305 315 0\n",
      "T 307 301 329 315 0\n",
      "O 335 301 346 315 0\n",
      "F 335 301 360 315 0\n",
      "T 366 301 375 315 0\n",
      "H 366 301 377 315 0\n",
      "E 378 301 390 315 0\n",
      ": 393 301 406 315 0\n",
      "D 197 272 206 286 0\n",
      "a 197 272 209 286 0\n",
      "t 211 272 219 282 0\n",
      "a 220 272 226 284 0\n",
      "S 227 272 235 282 0\n",
      "t 238 272 248 286 0\n",
      "a 248 272 254 284 0\n",
      "x 255 272 274 282 0\n",
      "C 280 272 289 286 0\n",
      "e 280 272 292 286 0\n",
      "r 294 272 303 282 0\n",
      "t 305 272 310 282 0\n",
      "i 311 272 316 284 0\n",
      "f 318 272 320 285 0\n",
      "i 321 272 330 286 0\n",
      "c 332 272 340 282 0\n",
      "a 342 272 350 282 0\n",
      "t 352 272 357 284 0\n",
      "i 359 272 361 285 0\n",
      "o 363 272 373 282 0\n",
      "n 375 272 383 282 0\n",
      "P 391 272 401 286 0\n",
      "r 403 272 408 282 0\n",
      "o 409 272 419 282 0\n",
      "g 420 268 430 282 0\n",
      "r 432 272 437 282 0\n",
      "a 438 272 447 282 0\n",
      "m 449 272 463 282 0\n",
      "C 697 236 704 249 0\n",
      "O 705 236 713 249 0\n",
      "M 715 236 725 248 0\n",
      "P 718 236 731 249 0\n",
      "L 727 236 733 248 0\n",
      "E 735 236 740 248 0\n",
      "T 741 236 753 248 0\n",
      "E 754 236 759 248 0\n",
      "D 761 236 768 248 0\n",
      "a 703 227 726 228 0\n",
      "e 728 223 762 231 0\n",
      "F 684 202 694 216 0\n",
      "E 695 202 705 216 0\n",
      "B 707 202 717 216 0\n",
      "R 719 202 729 216 0\n",
      "U 731 202 743 216 0\n",
      "A 744 202 757 216 0\n",
      "R 745 202 769 216 0\n",
      "Y 758 202 781 216 0\n",
      "1 712 160 726 187 0\n",
      "0 729 159 752 188 0\n",
      "“ 699 135 705 141 0\n",
      "< 709 130 715 136 0\n",
      "2 711 126 722 141 0\n",
      "0 716 126 724 136 0\n",
      "1 725 126 739 136 0\n",
      "7 740 126 748 136 0\n",
      "* 751 130 757 136 0\n",
      "* 761 135 767 141 0\n",
      "4 280 229 293 238 0\n",
      "/ 355 225 360 230 0\n",
      "h 249 180 274 208 0\n",
      "a 274 184 287 206 0\n",
      "a 267 176 317 213 0\n",
      "g 287 180 331 205 0\n",
      "C 338 191 345 209 0\n",
      "o 344 183 364 213 0\n",
      "P 248 102 260 120 0\n",
      "a 248 102 262 119 0\n",
      "t 263 102 275 115 0\n",
      "r 276 102 293 118 0\n",
      "i 294 102 299 120 0\n",
      "c 300 102 312 115 0\n",
      "k 313 102 326 119 0\n",
      "M 333 102 352 119 0\n",
      "c 354 102 365 115 0\n",
      "F 367 102 379 119 0\n",
      "a 369 102 391 120 0\n",
      "d 381 102 392 115 0\n",
      "i 394 102 407 119 0\n",
      "n 409 102 428 120 0\n",
      "V 209 67 223 84 0\n",
      "P 209 67 239 84 0\n",
      "D 248 62 260 84 0\n",
      "e 248 67 263 84 0\n",
      "v 265 67 277 80 0\n",
      "e 278 67 290 80 0\n",
      "l 291 67 303 80 0\n",
      "o 306 67 308 84 0\n",
      "p 311 67 323 80 0\n",
      "e 326 62 338 80 0\n",
      "r 339 67 361 80 0\n",
      "R 369 67 378 84 0\n",
      "e 369 67 381 84 0\n",
      "l 383 67 395 80 0\n",
      "a 397 67 400 84 0\n",
      "t 402 67 422 83 0\n",
      "i 423 67 426 84 0\n",
      "o 428 67 441 80 0\n",
      "n 443 67 454 80 0\n",
      "s 457 67 466 80 0\n",
      "C 193 38 199 46 0\n",
      "e 193 38 200 46 0\n",
      "r 201 38 207 44 0\n",
      "t 208 38 217 45 0\n",
      "i 212 38 217 46 0\n",
      "f 214 38 220 46 0\n",
      "i 218 38 223 46 0\n",
      "c 224 38 229 44 0\n",
      "a 230 38 235 44 0\n",
      "t 236 38 239 45 0\n",
      "e 240 38 246 44 0\n",
      "I 250 38 251 46 0\n",
      "D 250 38 259 46 0\n",
      ": 253 38 260 46 0\n",
      "b 267 38 273 46 0\n",
      "S 270 38 280 46 0\n",
      "c 274 38 280 46 0\n",
      "B 281 38 286 44 0\n",
      "f 287 38 300 46 0\n",
      "1 294 38 304 46 0\n",
      "8 301 38 307 46 0\n",
      "b 303 38 313 46 0\n",
      "- 308 38 318 46 0\n",
      "9 319 38 325 46 0\n",
      "5 322 38 332 46 0\n",
      "1 326 38 332 46 0\n",
      "8 333 38 336 46 0\n",
      "- 337 38 343 46 0\n",
      "4 344 38 354 46 0\n",
      "5 355 38 360 46 0\n",
      "c 361 38 366 44 0\n",
      "e 361 38 371 46 0\n",
      "- 367 38 373 44 0\n",
      "b 374 40 377 42 0\n",
      "8 378 38 390 46 0\n",
      "3 387 38 397 46 0\n",
      "7 391 38 397 46 0\n",
      "- 398 38 407 46 0\n",
      "b 403 38 413 46 0\n",
      "c 408 38 414 46 0\n",
      "O 415 38 420 44 0\n",
      "f 421 38 427 46 0\n",
      "b 428 38 437 46 0\n",
      "/ 431 38 441 46 0\n",
      "9 438 38 448 46 0\n",
      "4 449 38 455 46 0\n",
      "1 455 38 458 46 0\n",
      "7 459 38 465 46 0\n",
      "a 466 38 471 44 0\n",
      "b 472 38 478 46 0\n",
      "V 247 19 253 27 0\n",
      "e 247 19 255 27 0\n",
      "r 255 19 261 25 0\n",
      "s 259 19 269 27 0\n",
      "i 262 19 270 25 0\n",
      "o 271 19 280 25 0\n",
      "n 275 19 285 27 0\n",
      ": 281 19 286 25 0\n",
      "A 293 19 300 27 0\n",
      "p 296 9 306 37 0\n",
      "a 301 17 307 25 0\n",
      "c 308 19 319 25 0\n",
      "h 315 9 325 37 0\n",
      "e 320 19 325 27 0\n",
      "C 334 19 335 25 0\n",
      "a 336 19 350 27 0\n",
      "s 351 19 356 25 0\n",
      "s 356 19 361 25 0\n",
      "a 362 19 367 25 0\n",
      "n 364 9 374 37 0\n",
      "d 369 19 374 25 0\n",
      "r 375 19 381 27 0\n",
      "a 382 19 385 25 0\n",
      "™ 386 19 402 29 0\n",
      "3 408 19 413 27 0\n",
      ". 408 19 418 27 0\n",
      "0 417 19 424 27 0\n",
      "~ 634 14 849 694 0\n",
      "~ 831 32 895 676 0\n",
      "\n"
     ]
    }
   ],
   "source": [
    "print(pytesseract.image_to_boxes('test_cert_load.png'))"
   ]
  },
  {
   "cell_type": "code",
   "execution_count": 5,
   "metadata": {
    "scrolled": true
   },
   "outputs": [
    {
     "name": "stdout",
     "output_type": "stream",
     "text": [
      "level\tpage_num\tblock_num\tpar_num\tline_num\tword_num\tleft\ttop\twidth\theight\tconf\ttext\n",
      "1\t1\t0\t0\t0\t0\t0\t0\t900\t696\t-1\t\n",
      "2\t1\t1\t0\t0\t0\t24\t0\t628\t53\t-1\t\n",
      "3\t1\t1\t1\t0\t0\t24\t0\t628\t53\t-1\t\n",
      "4\t1\t1\t1\t1\t0\t24\t0\t628\t53\t-1\t\n",
      "5\t1\t1\t1\t1\t1\t24\t0\t628\t53\t95\t \n",
      "2\t1\t2\t0\t0\t0\t239\t155\t228\t31\t-1\t\n",
      "3\t1\t2\t1\t0\t0\t239\t155\t228\t31\t-1\t\n",
      "4\t1\t2\t1\t1\t0\t239\t155\t228\t31\t-1\t\n",
      "5\t1\t2\t1\t1\t1\t239\t155\t60\t25\t96\tJeff\n",
      "5\t1\t2\t1\t1\t2\t308\t155\t159\t31\t96\tCarpenter\n",
      "2\t1\t3\t0\t0\t0\t211\t240\t260\t15\t-1\t\n",
      "3\t1\t3\t1\t0\t0\t211\t240\t260\t15\t-1\t\n",
      "4\t1\t3\t1\t1\t0\t211\t240\t260\t15\t-1\t\n",
      "5\t1\t3\t1\t1\t1\t211\t244\t23\t6\t29\t~=*\n",
      "5\t1\t3\t1\t1\t2\t241\t240\t16\t15\t82\tIS\n",
      "5\t1\t3\t1\t1\t3\t265\t240\t126\t15\t96\tRECOGNIZED\n",
      "5\t1\t3\t1\t1\t4\t398\t240\t25\t15\t92\tAS\n",
      "5\t1\t3\t1\t1\t5\t429\t240\t42\t15\t39\tA**\n",
      "2\t1\t4\t0\t0\t0\t34\t318\t593\t22\t-1\t\n",
      "3\t1\t4\t1\t0\t0\t34\t318\t593\t22\t-1\t\n",
      "4\t1\t4\t1\t1\t0\t34\t318\t593\t22\t-1\t\n",
      "5\t1\t4\t1\t1\t1\t34\t318\t96\t17\t93\tDataStax\n",
      "5\t1\t4\t1\t1\t2\t138\t318\t91\t18\t95\tCertified\n",
      "5\t1\t4\t1\t1\t3\t238\t318\t131\t17\t96\tProfessional\n",
      "5\t1\t4\t1\t1\t4\t378\t322\t26\t13\t93\ton\n",
      "5\t1\t4\t1\t1\t5\t413\t318\t96\t17\t92\tDataStax\n",
      "5\t1\t4\t1\t1\t6\t518\t318\t109\t22\t96\tEnterprise\n",
      "2\t1\t5\t0\t0\t0\t197\t381\t266\t47\t-1\t\n",
      "3\t1\t5\t1\t0\t0\t197\t381\t266\t47\t-1\t\n",
      "4\t1\t5\t1\t1\t0\t253\t381\t153\t14\t-1\t\n",
      "5\t1\t5\t1\t1\t1\t253\t381\t23\t14\t96\tAS\n",
      "5\t1\t5\t1\t1\t2\t284\t381\t45\t14\t94\tPART\n",
      "5\t1\t5\t1\t1\t3\t335\t381\t25\t14\t94\tOF\n",
      "5\t1\t5\t1\t1\t4\t366\t381\t40\t14\t96\tTHE:\n",
      "4\t1\t5\t1\t2\t0\t197\t410\t266\t18\t-1\t\n",
      "5\t1\t5\t1\t2\t1\t197\t410\t77\t14\t92\tDataStax\n",
      "5\t1\t5\t1\t2\t2\t280\t410\t103\t14\t96\tCertification\n",
      "5\t1\t5\t1\t2\t3\t391\t410\t72\t18\t96\tProgram\n",
      "2\t1\t6\t0\t0\t0\t684\t447\t97\t47\t-1\t\n",
      "3\t1\t6\t1\t0\t0\t684\t447\t97\t47\t-1\t\n",
      "4\t1\t6\t1\t1\t0\t697\t447\t71\t13\t-1\t\n",
      "5\t1\t6\t1\t1\t1\t697\t447\t71\t13\t96\tCOMPLETED\n",
      "4\t1\t6\t1\t2\t0\t703\t465\t59\t8\t-1\t\n",
      "5\t1\t6\t1\t2\t1\t703\t465\t59\t8\t18\tae\n",
      "4\t1\t6\t1\t3\t0\t684\t480\t97\t14\t-1\t\n",
      "5\t1\t6\t1\t3\t1\t684\t480\t97\t14\t92\tFEBRUARY\n",
      "2\t1\t7\t0\t0\t0\t712\t508\t40\t29\t-1\t\n",
      "3\t1\t7\t1\t0\t0\t712\t508\t40\t29\t-1\t\n",
      "4\t1\t7\t1\t1\t0\t712\t508\t40\t29\t-1\t\n",
      "5\t1\t7\t1\t1\t1\t712\t508\t40\t29\t96\t10\n",
      "2\t1\t8\t0\t0\t0\t699\t555\t68\t15\t-1\t\n",
      "3\t1\t8\t1\t0\t0\t699\t555\t68\t15\t-1\t\n",
      "4\t1\t8\t1\t1\t0\t699\t555\t68\t15\t-1\t\n",
      "5\t1\t8\t1\t1\t1\t699\t555\t68\t15\t9\t“<2017**\n",
      "2\t1\t9\t0\t0\t0\t280\t458\t80\t13\t-1\t\n",
      "3\t1\t9\t1\t0\t0\t280\t458\t80\t13\t-1\t\n",
      "4\t1\t9\t1\t1\t0\t280\t458\t80\t13\t-1\t\n",
      "5\t1\t9\t1\t1\t1\t280\t458\t13\t9\t39\t4\n",
      "5\t1\t9\t1\t1\t2\t355\t466\t5\t5\t15\t/\n",
      "2\t1\t10\t0\t0\t0\t249\t483\t115\t37\t-1\t\n",
      "3\t1\t10\t1\t0\t0\t249\t483\t177\t37\t-1\t\n",
      "4\t1\t10\t1\t1\t0\t249\t483\t115\t37\t-1\t\n",
      "5\t1\t10\t1\t1\t1\t249\t488\t38\t28\t77\tha\n",
      "5\t1\t10\t1\t1\t2\t267\t483\t64\t37\t68\tag\n",
      "5\t1\t10\t1\t1\t3\t338\t483\t26\t30\t27\tCo\n",
      "2\t1\t11\t0\t0\t0\t209\t576\t257\t58\t-1\t\n",
      "3\t1\t11\t1\t0\t0\t209\t576\t257\t58\t-1\t\n",
      "4\t1\t11\t1\t1\t0\t248\t576\t180\t18\t-1\t\n",
      "5\t1\t11\t1\t1\t1\t248\t576\t78\t18\t93\tPatrick\n",
      "5\t1\t11\t1\t1\t2\t333\t576\t95\t18\t92\tMcFadin\n",
      "4\t1\t11\t1\t2\t0\t209\t612\t257\t22\t-1\t\n",
      "5\t1\t11\t1\t2\t1\t209\t612\t30\t17\t96\tVP\n",
      "5\t1\t11\t1\t2\t2\t248\t612\t113\t22\t96\tDeveloper\n",
      "5\t1\t11\t1\t2\t3\t369\t612\t97\t17\t96\tRelations\n",
      "2\t1\t12\t0\t0\t0\t193\t650\t285\t29\t-1\t\n",
      "3\t1\t12\t1\t0\t0\t193\t650\t285\t29\t-1\t\n",
      "4\t1\t12\t1\t1\t0\t193\t650\t285\t8\t-1\t\n",
      "5\t1\t12\t1\t1\t1\t193\t650\t53\t8\t44\tCertificate\n",
      "5\t1\t12\t1\t1\t2\t250\t650\t10\t8\t93\tID:\n",
      "5\t1\t12\t1\t1\t3\t267\t650\t211\t8\t0\tbScBf18b-9518-45ce-b837-bcOfb/9417ab\n",
      "4\t1\t12\t1\t2\t0\t247\t667\t177\t12\t-1\t\n",
      "5\t1\t12\t1\t2\t1\t247\t669\t39\t8\t91\tVersion:\n",
      "5\t1\t12\t1\t2\t2\t293\t659\t32\t28\t93\tApache\n",
      "5\t1\t12\t1\t2\t3\t334\t659\t68\t28\t91\tCassandra™\n",
      "5\t1\t12\t1\t2\t4\t408\t669\t16\t8\t94\t3.0\n",
      "2\t1\t13\t0\t0\t0\t634\t2\t215\t680\t-1\t\n",
      "3\t1\t13\t1\t0\t0\t634\t2\t215\t680\t-1\t\n",
      "4\t1\t13\t1\t1\t0\t634\t2\t215\t680\t-1\t\n",
      "5\t1\t13\t1\t1\t1\t634\t2\t215\t680\t95\t \n",
      "2\t1\t14\t0\t0\t0\t831\t20\t64\t644\t-1\t\n",
      "3\t1\t14\t1\t0\t0\t831\t20\t64\t644\t-1\t\n",
      "4\t1\t14\t1\t1\t0\t831\t20\t64\t644\t-1\t\n",
      "5\t1\t14\t1\t1\t1\t831\t20\t64\t644\t95\t \n",
      "\n"
     ]
    }
   ],
   "source": [
    "print(pytesseract.image_to_data('test_cert_load.png'))"
   ]
  },
  {
   "cell_type": "code",
   "execution_count": 6,
   "metadata": {},
   "outputs": [],
   "source": [
    "def get_source_text(image_url):\n",
    "    img_data = requests.get(image_url).content\n",
    "    with open('test_cert_load.png', 'wb') as handler:\n",
    "        handler.write(img_data)\n",
    "    source_text = pytesseract.image_to_string('test_cert_load.png')\n",
    "    return source_text"
   ]
  },
  {
   "cell_type": "code",
   "execution_count": 7,
   "metadata": {},
   "outputs": [
    {
     "name": "stdout",
     "output_type": "stream",
     "text": [
      " \n",
      "\n",
      "Jeff Carpenter\n",
      "\n",
      "~=* IS RECOGNIZED AS A**\n",
      "\n",
      "DataStax Certified Professional on DataStax Enterprise\n",
      "\n",
      "AS PART OF THE:\n",
      "DataStax Certification Program\n",
      "\n",
      "COMPLETED\n",
      "ae\n",
      "FEBRUARY\n",
      "\n",
      "10\n",
      "\n",
      "“<2017**\n",
      "\n",
      "4 /\n",
      "\n",
      "ha ag Co\n",
      "\n",
      "Patrick McFadin\n",
      "VP Developer Relations\n",
      "\n",
      "Certificate ID: bScBf18b-9518-45ce-b837-bcOfb/9417ab\n",
      "Version: Apache Cassandra™ 3.0\n",
      "\n",
      " \n",
      "\n",
      " \n",
      "\f",
      "\n"
     ]
    }
   ],
   "source": [
    "source_text = get_source_text(image_url)\n",
    "print(source_text)"
   ]
  },
  {
   "cell_type": "code",
   "execution_count": 8,
   "metadata": {},
   "outputs": [],
   "source": [
    "def certificate_type_extract(source_text):\n",
    "    if 'Administrator' in source_text:\n",
    "        return 'Administrator'\n",
    "    if 'Developer' in source_text:\n",
    "        return 'Developer'\n",
    "    return 'Unknown'"
   ]
  },
  {
   "cell_type": "code",
   "execution_count": 9,
   "metadata": {},
   "outputs": [
    {
     "name": "stdout",
     "output_type": "stream",
     "text": [
      "Developer\n"
     ]
    }
   ],
   "source": [
    "certificate_type = certificate_type_extract(source_text)\n",
    "print(certificate_type)"
   ]
  },
  {
   "cell_type": "code",
   "execution_count": 10,
   "metadata": {},
   "outputs": [
    {
     "name": "stdout",
     "output_type": "stream",
     "text": [
      "Page number: 0\n",
      "Orientation in degrees: 0\n",
      "Rotate: 0\n",
      "Orientation confidence: 7.72\n",
      "Script: Latin\n",
      "Script confidence: 5.13\n",
      "\n"
     ]
    }
   ],
   "source": [
    "print(pytesseract.image_to_osd('test_cert_load.png'))"
   ]
  },
  {
   "cell_type": "markdown",
   "metadata": {},
   "source": [
    "# Google Cloud Vision API"
   ]
  },
  {
   "cell_type": "markdown",
   "metadata": {},
   "source": [
    "* Pre-trained machine learning models that are compared against and picked to be run on inputs\n",
    "* Offers labelling of image features (not ideal for passing in desired labels)"
   ]
  },
  {
   "cell_type": "code",
   "execution_count": 11,
   "metadata": {},
   "outputs": [],
   "source": [
    "from google.oauth2 import service_account\n",
    "import google.cloud.bigquery as bigquery"
   ]
  },
  {
   "cell_type": "code",
   "execution_count": 12,
   "metadata": {},
   "outputs": [],
   "source": [
    "SCOPE = ('https://www.googleapis.com/auth/bigquery',\n",
    "         'https://www.googleapis.com/auth/drive.readonly',\n",
    "         'https://www.googleapis.com/auth/spreadsheets')"
   ]
  },
  {
   "cell_type": "code",
   "execution_count": 13,
   "metadata": {},
   "outputs": [],
   "source": [
    "credentials = service_account.Credentials.from_service_account_file(\"datastax-datalake.json\")"
   ]
  },
  {
   "cell_type": "code",
   "execution_count": 14,
   "metadata": {},
   "outputs": [],
   "source": [
    "scoped_cred = credentials.with_scopes(SCOPE)"
   ]
  },
  {
   "cell_type": "code",
   "execution_count": 15,
   "metadata": {},
   "outputs": [],
   "source": [
    "def detect_text_uri(uri):\n",
    "    \"\"\"Detects text in the file located in Google Cloud Storage or on the Web.\n",
    "    \"\"\"\n",
    "    from google.cloud import vision\n",
    "    client = vision.ImageAnnotatorClient(credentials=scoped_cred)\n",
    "    image = vision.types.Image()\n",
    "    image.source.image_uri = uri\n",
    "\n",
    "    response = client.text_detection(image=image)\n",
    "    texts = response.text_annotations\n",
    "    print('Texts:')\n",
    "\n",
    "    for text in texts:\n",
    "        print('\\n\"{}\"'.format(text.description))\n",
    "\n",
    "        vertices = (['({},{})'.format(vertex.x, vertex.y)\n",
    "                    for vertex in text.bounding_poly.vertices])\n",
    "\n",
    "        print('bounds: {}'.format(','.join(vertices)))\n",
    "\n",
    "    if response.error.message:\n",
    "        raise Exception(\n",
    "            '{}\\nFor more info on error messages, check: '\n",
    "            'https://cloud.google.com/apis/design/errors'.format(\n",
    "                response.error.message))"
   ]
  },
  {
   "cell_type": "code",
   "execution_count": null,
   "metadata": {
    "scrolled": true
   },
   "outputs": [],
   "source": [
    "detect_text_uri(image_url)"
   ]
  },
  {
   "cell_type": "markdown",
   "metadata": {},
   "source": [
    "https://cloud.google.com/vision"
   ]
  },
  {
   "cell_type": "markdown",
   "metadata": {},
   "source": [
    "# AutoML"
   ]
  },
  {
   "cell_type": "markdown",
   "metadata": {},
   "source": [
    "* Custom ML models based on provided training data and labels\n",
    "* Wide range of model types and desired features, ranging from face detection, image location, to translation"
   ]
  },
  {
   "cell_type": "markdown",
   "metadata": {},
   "source": [
    "<img src=\"files/automl1.png\">"
   ]
  },
  {
   "cell_type": "markdown",
   "metadata": {},
   "source": [
    "<img src=\"files/automl2.png\">"
   ]
  },
  {
   "cell_type": "markdown",
   "metadata": {},
   "source": [
    "<img src=\"files/automl3.png\">"
   ]
  },
  {
   "cell_type": "markdown",
   "metadata": {},
   "source": [
    "<img src=\"files/automl4.png\">"
   ]
  },
  {
   "cell_type": "markdown",
   "metadata": {},
   "source": [
    "<img src=\"files/automl5.png\">"
   ]
  },
  {
   "cell_type": "markdown",
   "metadata": {},
   "source": [
    "<img src=\"files/automl6.png\">"
   ]
  },
  {
   "cell_type": "markdown",
   "metadata": {},
   "source": [
    "# GCP Shop"
   ]
  },
  {
   "cell_type": "markdown",
   "metadata": {},
   "source": [
    "<img src=\"files/gcp_overview.png\">"
   ]
  }
 ],
 "metadata": {
  "kernelspec": {
   "display_name": "Python 3",
   "language": "python",
   "name": "python3"
  },
  "language_info": {
   "codemirror_mode": {
    "name": "ipython",
    "version": 3
   },
   "file_extension": ".py",
   "mimetype": "text/x-python",
   "name": "python",
   "nbconvert_exporter": "python",
   "pygments_lexer": "ipython3",
   "version": "3.7.6"
  }
 },
 "nbformat": 4,
 "nbformat_minor": 4
}
